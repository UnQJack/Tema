{
  "nbformat": 4,
  "nbformat_minor": 0,
  "metadata": {
    "colab": {
      "name": "Lucrarea1 - Intro.ipynb",
      "provenance": [],
      "include_colab_link": true
    },
    "kernelspec": {
      "name": "python3",
      "display_name": "Python 3"
    },
    "language_info": {
      "name": "python"
    }
  },
  "cells": [
    {
      "cell_type": "markdown",
      "metadata": {
        "id": "view-in-github",
        "colab_type": "text"
      },
      "source": [
        "<a href=\"https://colab.research.google.com/github/UnQJack/Tema/blob/main/Lucrarea1_Intro.ipynb\" target=\"_parent\"><img src=\"https://colab.research.google.com/assets/colab-badge.svg\" alt=\"Open In Colab\"/></a>"
      ]
    },
    {
      "cell_type": "markdown",
      "metadata": {
        "id": "Au44bp15mbWu"
      },
      "source": [
        "#Introducere"
      ]
    },
    {
      "cell_type": "markdown",
      "metadata": {
        "id": "05tMhzkNPhb8"
      },
      "source": [
        "Obiectiv. Această  lucrare îsi propune familiarizarea studentilor cu limbajul de programare Python - mediul Colab pentru simularea conceptelor din Teoria Informatiei.  Vor fi parcurse:\n",
        "\n",
        "1.  Notiuni  de bază in Python : tipuri de date (containere, liste, dicționare, seturi, tupluri), funcții, clase\n",
        "2.  Calcul matriceal,  Numpy: matrice, indexare matrice, tipuri de date, matematică matrice, broadcasting\n",
        "3.  Elemente de grafica, Matplotlib: Figuri, Subplots, Imagini\n",
        "4. Exercitii\n",
        "\n",
        "\n",
        "\n"
      ]
    },
    {
      "cell_type": "markdown",
      "metadata": {
        "id": "E-gO25Jg3WqE"
      },
      "source": [
        "##Descrierea mediului de lucru"
      ]
    },
    {
      "cell_type": "markdown",
      "metadata": {
        "id": "pafIa8kY32xV"
      },
      "source": [
        "Python este un limbaj de programare de uz general, de sine statator insă, cu ajutorul câtorva biblioteci populare (numpy, scipy, matplotlib) devine un mediu puternic pentru calculul științific.\n",
        "Colaboratory, sau „Colab” pe scurt, este un produs al Google Research. Colab permite oricui să scrie și să execute coduri Python folosind browser-ul. Este util pentru învățarea automată, analiza datelor și educație. O definitie mai tehnica  ar fi: Colab este un serviciu de notebook-uri Jupyter găzduit de Google, care nu necesită nicio configurare pentru utilizare, oferind în același timp acces gratuit la resurse de calcul performante, inclusiv GPU-uri.\n",
        "\n",
        "\n",
        " Versiunea Python curenta se poate verifica din linia de comandă executând !python --version.  Incepând din aprilie 2020, Colab folosește Python 3.6.9 care ar trebui să ruleze totul fără erori."
      ]
    },
    {
      "cell_type": "code",
      "metadata": {
        "id": "o24f5-HPBleE",
        "colab": {
          "base_uri": "https://localhost:8080/"
        },
        "outputId": "b23eb454-9966-4093-9f78-cac2b0c0041f"
      },
      "source": [
        "!python --version"
      ],
      "execution_count": 1,
      "outputs": [
        {
          "output_type": "stream",
          "name": "stdout",
          "text": [
            "Python 3.10.12\n"
          ]
        }
      ]
    },
    {
      "cell_type": "markdown",
      "metadata": {
        "id": "0y5-Gi0GBgKw"
      },
      "source": [
        "##Tipuri de date de bază in Python\n"
      ]
    },
    {
      "cell_type": "markdown",
      "metadata": {
        "id": "6HC7gTUg99Zq"
      },
      "source": [
        "###Numere"
      ]
    },
    {
      "cell_type": "markdown",
      "metadata": {
        "id": "z82coJSn-nlB"
      },
      "source": [
        "Există trei categorii numerice distincte: numere întregi (integers), numere cu virgulă mobilă (floats) și numere complexe. În plus, Booleans este o subcategorie de numere întregi. Numerele întregi au o precizie nelimitată. Numerele în virgulă mobilă sunt de obicei implementate folosind double în C; Numerele complexe au o parte reală și imaginară, care sunt fiecare un număr în virgulă mobilă. Pentru a extrage aceste părți dintr-un număr complex z, utilizați *z.real* și *z.imag*."
      ]
    },
    {
      "cell_type": "code",
      "metadata": {
        "colab": {
          "base_uri": "https://localhost:8080/"
        },
        "id": "ISPYbWWx-0fA",
        "outputId": "524f8cfc-3656-43d0-a372-3ef03439c059"
      },
      "source": [
        "x =-9\n",
        "print(x, type(x))"
      ],
      "execution_count": 2,
      "outputs": [
        {
          "output_type": "stream",
          "name": "stdout",
          "text": [
            "-9 <class 'int'>\n"
          ]
        }
      ]
    },
    {
      "cell_type": "markdown",
      "metadata": {
        "id": "nSaQVvpiCNiV"
      },
      "source": [
        "Operatii matematice uzuale:"
      ]
    },
    {
      "cell_type": "code",
      "metadata": {
        "colab": {
          "base_uri": "https://localhost:8080/"
        },
        "id": "0HaoxH7F-9iI",
        "outputId": "ac0021be-9d2c-4ca4-8633-6877a02c1668"
      },
      "source": [
        "print(x + 5)   # Adunarea\n",
        "print(x - 2)   # Scaderea\n",
        "print(x * 2)   # Inmultirea\n",
        "print(x / 2)   # Impartirea\n",
        "print(x % 2)   #restul impartirii\n",
        "print(x**2)   # Ridicarea la putere\n",
        "print (-x)\n",
        "print(abs(x)) # modul x"
      ],
      "execution_count": 3,
      "outputs": [
        {
          "output_type": "stream",
          "name": "stdout",
          "text": [
            "-4\n",
            "-11\n",
            "-18\n",
            "-4.5\n",
            "1\n",
            "81\n",
            "9\n",
            "9\n"
          ]
        }
      ]
    },
    {
      "cell_type": "markdown",
      "metadata": {
        "id": "YuS72EqEF2Gs"
      },
      "source": [
        "Pentru ridicarea la putere se poate folosi si:"
      ]
    },
    {
      "cell_type": "code",
      "metadata": {
        "colab": {
          "base_uri": "https://localhost:8080/"
        },
        "id": "4vPem4uYF5ky",
        "outputId": "b8db4377-c8b9-4c69-afaf-d852821bda2c"
      },
      "source": [
        "y=6\n",
        "print(pow(x,y))\n",
        "print (x ** y)"
      ],
      "execution_count": 4,
      "outputs": [
        {
          "output_type": "stream",
          "name": "stdout",
          "text": [
            "531441\n",
            "531441\n"
          ]
        }
      ]
    },
    {
      "cell_type": "code",
      "metadata": {
        "colab": {
          "base_uri": "https://localhost:8080/"
        },
        "id": "J1d1tgVBDEFW",
        "outputId": "27ab9957-8eaf-47b3-f040-4bbbf7f7ede9"
      },
      "source": [
        "x += 1\n",
        "print(x)\n",
        "x *= 2\n",
        "print(x)"
      ],
      "execution_count": 5,
      "outputs": [
        {
          "output_type": "stream",
          "name": "stdout",
          "text": [
            "-8\n",
            "-16\n"
          ]
        }
      ]
    },
    {
      "cell_type": "markdown",
      "metadata": {
        "id": "eKOfgUl2D4GS"
      },
      "source": [
        "Observatie: Spre deosebire de alte limbaje (C/C++, Java, Javascript, C#, PHP) Python nu are operatori de incrementare(x++) sau decrementare (x--)."
      ]
    },
    {
      "cell_type": "code",
      "metadata": {
        "colab": {
          "base_uri": "https://localhost:8080/"
        },
        "id": "KQslYEOyDfJ4",
        "outputId": "8fb00cc3-6785-4870-856d-d253ba43c04d"
      },
      "source": [
        "z = 1.5\n",
        "print(type(z))\n",
        "print(z, z + 3, z * 5, z ** 3)"
      ],
      "execution_count": 6,
      "outputs": [
        {
          "output_type": "stream",
          "name": "stdout",
          "text": [
            "<class 'float'>\n",
            "1.5 4.5 7.5 3.375\n"
          ]
        }
      ]
    },
    {
      "cell_type": "markdown",
      "metadata": {
        "id": "S1e7ym8gGhbR"
      },
      "source": [
        "###Operatori Booleni"
      ]
    },
    {
      "cell_type": "markdown",
      "metadata": {
        "id": "AL8y_1JeGuoh"
      },
      "source": [
        "Pentru implementarea operatorilor uzuali in logica booleana Python foloseste cuvinte in loc de simboluri:"
      ]
    },
    {
      "cell_type": "code",
      "metadata": {
        "colab": {
          "base_uri": "https://localhost:8080/"
        },
        "id": "dGoI_9hvGhJZ",
        "outputId": "2e0f1f36-1895-49db-ccac-bb4dfaf18b63"
      },
      "source": [
        "t= True\n",
        "print(type(t))"
      ],
      "execution_count": 7,
      "outputs": [
        {
          "output_type": "stream",
          "name": "stdout",
          "text": [
            "<class 'bool'>\n"
          ]
        }
      ]
    },
    {
      "cell_type": "code",
      "metadata": {
        "colab": {
          "base_uri": "https://localhost:8080/"
        },
        "id": "oNTULVzYG6hY",
        "outputId": "fc61b898-a156-45cf-aece-840c934bc36a"
      },
      "source": [
        "f=False\n",
        "\n",
        "print(t and f) #  AND;\n",
        "print(t or f)  #  OR;\n",
        "print(not t)   #  NOT;\n",
        "print(t != f)  #  XOR;"
      ],
      "execution_count": 8,
      "outputs": [
        {
          "output_type": "stream",
          "name": "stdout",
          "text": [
            "False\n",
            "True\n",
            "False\n",
            "True\n"
          ]
        }
      ]
    },
    {
      "cell_type": "code",
      "metadata": {
        "colab": {
          "base_uri": "https://localhost:8080/"
        },
        "id": "LwifcXvgVZbk",
        "outputId": "68f96f20-a733-4fa3-cbe8-be0548cb33f3"
      },
      "source": [
        "a = -5\n",
        "b = -10\n",
        "c = 0\n",
        "\n",
        "if a > 0 or b > 0:\n",
        "    print(\"Cel putin unul dintre cele doua nr. este mai mare decat 0\")\n",
        "else:\n",
        "    print(\"Niciunul dintre numere nu este mai mare ca zero 0\")"
      ],
      "execution_count": 9,
      "outputs": [
        {
          "output_type": "stream",
          "name": "stdout",
          "text": [
            "Niciunul dintre numere nu este mai mare ca zero 0\n"
          ]
        }
      ]
    },
    {
      "cell_type": "markdown",
      "metadata": {
        "id": "NmvwpLorWb04"
      },
      "source": [
        "###Caractere (Strings)"
      ]
    },
    {
      "cell_type": "code",
      "metadata": {
        "colab": {
          "base_uri": "https://localhost:8080/"
        },
        "id": "45KcoMsWWiyH",
        "outputId": "8d1677bc-8bf6-48f7-c885-e1c5bf503852"
      },
      "source": [
        "salut = 'buna dimineata'   # sirurile de caractere se definesc folosind fie prin ghilimele sau apostrof\n",
        "lab = \"in laborator\"\n",
        "print(salut, len(salut))"
      ],
      "execution_count": 10,
      "outputs": [
        {
          "output_type": "stream",
          "name": "stdout",
          "text": [
            "buna dimineata 14\n"
          ]
        }
      ]
    },
    {
      "cell_type": "code",
      "metadata": {
        "colab": {
          "base_uri": "https://localhost:8080/"
        },
        "id": "YdncCW2loiaU",
        "outputId": "a3ed8281-892e-4499-95fd-093b2e7d015d"
      },
      "source": [
        "mesaj = salut + ' ' + lab  # Operatie de concatenare\n",
        "print(mesaj)"
      ],
      "execution_count": 11,
      "outputs": [
        {
          "output_type": "stream",
          "name": "stdout",
          "text": [
            "buna dimineata in laborator\n"
          ]
        }
      ]
    },
    {
      "cell_type": "markdown",
      "metadata": {
        "id": "cfsId-dopBSM"
      },
      "source": [
        "Pentru variabilele de tip caracter exista o multime de optiuni:\n"
      ]
    },
    {
      "cell_type": "code",
      "metadata": {
        "colab": {
          "base_uri": "https://localhost:8080/"
        },
        "id": "XcrT7LK3pF0X",
        "outputId": "8df81fbd-61e1-4d84-b62a-df703d78df61"
      },
      "source": [
        "s = \"buna\"\n",
        "print(s.capitalize())  # Capitalize a string\n",
        "print(s.upper())       # Convert a string to uppercase;\n",
        "print(s.rjust(10))      # Right-justify a string, padding with spaces\n",
        "print(s.center(10))     # Center a string, padding with spaces\n",
        "print(s.replace('n', '(b)'))  # Replace all instances of one substring with another"
      ],
      "execution_count": 12,
      "outputs": [
        {
          "output_type": "stream",
          "name": "stdout",
          "text": [
            "Buna\n",
            "BUNA\n",
            "      buna\n",
            "   buna   \n",
            "bu(b)a\n"
          ]
        }
      ]
    },
    {
      "cell_type": "code",
      "metadata": {
        "colab": {
          "base_uri": "https://localhost:8080/",
          "height": 35
        },
        "id": "KEYo5k-qpqb9",
        "outputId": "1b1f0b18-195c-4a1f-a932-ab4b8296f904"
      },
      "source": [
        "'The sum of 2 + 5 is {0}'.format(2+5) #formatarea unui sir de caractere"
      ],
      "execution_count": 13,
      "outputs": [
        {
          "output_type": "execute_result",
          "data": {
            "text/plain": [
              "'The sum of 2 + 5 is 7'"
            ],
            "application/vnd.google.colaboratory.intrinsic+json": {
              "type": "string"
            }
          },
          "metadata": {},
          "execution_count": 13
        }
      ]
    },
    {
      "cell_type": "markdown",
      "metadata": {
        "id": "9tOnHV7jq3jV"
      },
      "source": [
        "##Containere"
      ]
    },
    {
      "cell_type": "markdown",
      "metadata": {
        "id": "fAAgnr0orRAo"
      },
      "source": [
        "Python include cateva tipuri de containere: liste, dictionare, multumim (sets), si tuple (tuples)."
      ]
    },
    {
      "cell_type": "markdown",
      "metadata": {
        "id": "HcUkM3VFrraH"
      },
      "source": [
        "####Liste"
      ]
    },
    {
      "cell_type": "markdown",
      "metadata": {
        "id": "1gqfp2dOrztc"
      },
      "source": [
        "O listă este echivalentul Python al unei matrice, cu mentiunea ca este redimensionabilă și poate conține elemente de diferite tipuri. Aici [documentatie](https://docs.python.org/3.7/tutorial/datastructures.html#more-on-lists).\n",
        "**De retinut**. Indexul listei in Python incepe de la 0!!!"
      ]
    },
    {
      "cell_type": "code",
      "metadata": {
        "colab": {
          "base_uri": "https://localhost:8080/"
        },
        "id": "9cAjq-arsFJw",
        "outputId": "8a964a98-d371-4b90-dd02-39269519a5f1"
      },
      "source": [
        "l = [3, 1, 7, 9, 2]   # crearea unei liste implica utilizarea parantezelor []\n",
        "print(l) # parantezele rotunde sunt folosite pentru apelarea functiilor\n",
        "print('al doilea elemente este',l[1]) #atentie, indexul incepe de la 0.\n",
        "print('ultimul element din lista este',l[-1]) #Indicele negativ intoarce de la sfarsitul la inceputul listei elementul de pe pozitia data"
      ],
      "execution_count": 14,
      "outputs": [
        {
          "output_type": "stream",
          "name": "stdout",
          "text": [
            "[3, 1, 7, 9, 2]\n",
            "al doilea elemente este 1\n",
            "ultimul element din lista este 2\n"
          ]
        }
      ]
    },
    {
      "cell_type": "markdown",
      "metadata": {
        "id": "_x2wRGYMxlAZ"
      },
      "source": [
        "Deoarce lista contine elemente de diferite tipuri, unul din elemente poate fi inlocuit cu un sir de caractere:\n"
      ]
    },
    {
      "cell_type": "code",
      "metadata": {
        "colab": {
          "base_uri": "https://localhost:8080/"
        },
        "id": "2FGGbrRnxuIC",
        "outputId": "a7eeecf5-2861-43ef-d4f7-056e78292d31"
      },
      "source": [
        "l[3]='soare'\n",
        "print(l)"
      ],
      "execution_count": 15,
      "outputs": [
        {
          "output_type": "stream",
          "name": "stdout",
          "text": [
            "[3, 1, 7, 'soare', 2]\n"
          ]
        }
      ]
    },
    {
      "cell_type": "markdown",
      "metadata": {
        "id": "7BBHbWFQx_va"
      },
      "source": [
        "La sfarsitul listei se poate adauga un element:\n",
        "\n",
        "\n"
      ]
    },
    {
      "cell_type": "code",
      "metadata": {
        "colab": {
          "base_uri": "https://localhost:8080/"
        },
        "id": "hQ6Y1PsTyHgw",
        "outputId": "7ebbe5e4-f981-494f-d3be-9e637358fe6d"
      },
      "source": [
        "l.append('tomnatic')\n",
        "print(l)\n",
        "#extragerea acestui element din lista\n",
        "l.pop(-1)\n",
        "print(l)"
      ],
      "execution_count": 16,
      "outputs": [
        {
          "output_type": "stream",
          "name": "stdout",
          "text": [
            "[3, 1, 7, 'soare', 2, 'tomnatic']\n",
            "[3, 1, 7, 'soare', 2]\n"
          ]
        }
      ]
    },
    {
      "cell_type": "markdown",
      "metadata": {
        "id": "3VuBSJ_S17dg"
      },
      "source": [
        "In plus fata de extragerea /inserarea unui element din lista, in Pyhon este posibila secventierea (slicing) unei liste.\n"
      ]
    },
    {
      "cell_type": "code",
      "metadata": {
        "colab": {
          "base_uri": "https://localhost:8080/"
        },
        "id": "BLIj5-0H2SWn",
        "outputId": "79a1ebd2-e463-470c-ac66-93496ffc353f"
      },
      "source": [
        "a = list(range(7))    # range este o functie built in ce creaza o lista de var de tip integer that creates a list of integers\n",
        "print(a)\n",
        "print(a[2:4])    # exatragerea secventei dintre indexul 2 to 4 (exclusive)\n",
        "print(a[3:])     # extragerea secventei de la pozitia 3 pana la sfarsit\n",
        "print(a[:2])     # Extragerea secveneti de la start pana la pozitia  2\n",
        "print(a[:])      # afiseaza intreaga lista\n",
        "print(a[:-3])    # afiseaza lista fara ultimele trei elemente\n",
        "a[5:6] = [238, 195] # inlocuieste o secventa din lista cu alta\n",
        "print(a)\n",
        "print(len(a))    # len(a) determina lungimea listei"
      ],
      "execution_count": 17,
      "outputs": [
        {
          "output_type": "stream",
          "name": "stdout",
          "text": [
            "[0, 1, 2, 3, 4, 5, 6]\n",
            "[2, 3]\n",
            "[3, 4, 5, 6]\n",
            "[0, 1]\n",
            "[0, 1, 2, 3, 4, 5, 6]\n",
            "[0, 1, 2, 3]\n",
            "[0, 1, 2, 3, 4, 238, 195, 6]\n",
            "8\n"
          ]
        }
      ]
    },
    {
      "cell_type": "markdown",
      "metadata": {
        "id": "jMdye6Dz6eye"
      },
      "source": [
        "#### Loops\n",
        "Parcugerea elementelor unei liste se poate face printr-un ***for***"
      ]
    },
    {
      "cell_type": "code",
      "metadata": {
        "colab": {
          "base_uri": "https://localhost:8080/"
        },
        "id": "GXTNdZyD7BMR",
        "outputId": "de21b06b-8365-4302-f893-9b53f6d998a8"
      },
      "source": [
        "words = ['food', 'for', 'soul']\n",
        "for word in words:\n",
        "    print(word)"
      ],
      "execution_count": 18,
      "outputs": [
        {
          "output_type": "stream",
          "name": "stdout",
          "text": [
            "food\n",
            "for\n",
            "soul\n"
          ]
        }
      ]
    },
    {
      "cell_type": "markdown",
      "metadata": {
        "id": "PV20yatg9SjG"
      },
      "source": [
        "Pentru a accesa indexul fiecărui element din interiorul  unei bucle se foloseste funcția ***enumerate***"
      ]
    },
    {
      "cell_type": "code",
      "metadata": {
        "colab": {
          "base_uri": "https://localhost:8080/"
        },
        "id": "j6C35g6W90Ri",
        "outputId": "73c92437-5e61-45c1-d019-203ece01da89"
      },
      "source": [
        "words = ['food', 'for', 'soul']\n",
        "for idx, word in enumerate(words):\n",
        "    print('#{}: {}'.format(idx + 1, word)) #idx+1 pentru ca enumerarea sa inceapa de la 1"
      ],
      "execution_count": 19,
      "outputs": [
        {
          "output_type": "stream",
          "name": "stdout",
          "text": [
            "#1: food\n",
            "#2: for\n",
            "#3: soul\n"
          ]
        }
      ]
    },
    {
      "cell_type": "markdown",
      "metadata": {
        "id": "Gub_GGlb-kVV"
      },
      "source": [
        "\"Simplificarea\" listelor ne permite sa transformam rapid un tip de date in altul. Ridicarea la patrat a elementelor unei liste\n"
      ]
    },
    {
      "cell_type": "code",
      "metadata": {
        "colab": {
          "base_uri": "https://localhost:8080/"
        },
        "id": "CniHqfCU_H58",
        "outputId": "27b3f636-5ec1-4e97-d482-9946c87f9563"
      },
      "source": [
        "a = list(range(5))  # sau a=[0,1,2,3,4]\n",
        "squares = [] #initializarea liste de patrate perfecte\n",
        "for x in a:\n",
        "    squares.append(x ** 2) #adaugarea element cu element a elementelor din a^2\n",
        "print(squares)"
      ],
      "execution_count": 20,
      "outputs": [
        {
          "output_type": "stream",
          "name": "stdout",
          "text": [
            "[0, 1, 4, 9, 16]\n"
          ]
        }
      ]
    },
    {
      "cell_type": "markdown",
      "metadata": {
        "id": "hwXcz5b0_mpG"
      },
      "source": [
        "se poate realiza mai simplu astfel:"
      ]
    },
    {
      "cell_type": "code",
      "metadata": {
        "colab": {
          "base_uri": "https://localhost:8080/"
        },
        "id": "PuOFUozk_vjs",
        "outputId": "2ca30aca-ee91-4532-a9f3-d44801131571"
      },
      "source": [
        "a = list(range(5))\n",
        "squares = [x ** 2 for x in a]\n",
        "print(squares)"
      ],
      "execution_count": 21,
      "outputs": [
        {
          "output_type": "stream",
          "name": "stdout",
          "text": [
            "[0, 1, 4, 9, 16]\n"
          ]
        }
      ]
    },
    {
      "cell_type": "markdown",
      "metadata": {
        "id": "XjST1vlDBTIc"
      },
      "source": [
        "Sintaxele folosite pentru simplificare pot include si conditii, precum afisarea din lista doar a numerelor pare:"
      ]
    },
    {
      "cell_type": "code",
      "metadata": {
        "colab": {
          "base_uri": "https://localhost:8080/"
        },
        "id": "O7ED1H6_BZtP",
        "outputId": "9a199f68-64c4-44a8-ce0a-a8dd8a6921b3"
      },
      "source": [
        "a = list(range(5))\n",
        "nr_pare = [x ** 2 for x in a if x % 2 == 0]\n",
        "print(nr_pare)"
      ],
      "execution_count": 22,
      "outputs": [
        {
          "output_type": "stream",
          "name": "stdout",
          "text": [
            "[0, 4, 16]\n"
          ]
        }
      ]
    },
    {
      "cell_type": "markdown",
      "metadata": {
        "id": "oMgaBV8gDHiz"
      },
      "source": [
        "\n",
        "###Dictionare"
      ]
    },
    {
      "cell_type": "markdown",
      "metadata": {
        "id": "jFB_nSnfC-OA"
      },
      "source": [
        "Un dicționar memoreaza perechi (cheie, valoare), similar cu o hartă în Java sau unui obiect în Javascript. Se poate folosi astfel:"
      ]
    },
    {
      "cell_type": "code",
      "metadata": {
        "colab": {
          "base_uri": "https://localhost:8080/"
        },
        "id": "zbXTt-5BDe69",
        "outputId": "d615f9ea-dd0d-4d9e-acef-3e0c1215fca8"
      },
      "source": [
        "dict = {'persoana': 2, 'pisica': 4, 'omida': 16} #pentru dictionar se folosesc {}\n",
        "for fiinta, picioare in dict.items():\n",
        "    print('O {} are {} picioare.'.format(fiinta, picioare))"
      ],
      "execution_count": 23,
      "outputs": [
        {
          "output_type": "stream",
          "name": "stdout",
          "text": [
            "O persoana are 2 picioare.\n",
            "O pisica are 4 picioare.\n",
            "O omida are 16 picioare.\n"
          ]
        }
      ]
    },
    {
      "cell_type": "markdown",
      "metadata": {
        "id": "cGEGH0jjFE79"
      },
      "source": [
        "Afisarea valorii unei chei din dictionar:\n"
      ]
    },
    {
      "cell_type": "code",
      "metadata": {
        "colab": {
          "base_uri": "https://localhost:8080/"
        },
        "id": "k-4tDZyCFOXK",
        "outputId": "d1a72342-86b5-4c1a-876d-4d5853d75471"
      },
      "source": [
        "print(dict['omida'])"
      ],
      "execution_count": 24,
      "outputs": [
        {
          "output_type": "stream",
          "name": "stdout",
          "text": [
            "16\n"
          ]
        }
      ]
    },
    {
      "cell_type": "markdown",
      "metadata": {
        "id": "yZFrXodQDcG2"
      },
      "source": [
        "###Multimi\n",
        "o multime este o colecție neordonată de elemente distincte. Fie o multime definita astfel:"
      ]
    },
    {
      "cell_type": "code",
      "metadata": {
        "colab": {
          "base_uri": "https://localhost:8080/"
        },
        "id": "P4j9OwfOAG68",
        "outputId": "cfaca673-6eb5-499f-bdc8-0d5c21b4937f"
      },
      "source": [
        "animals = {'cat', 'dog'}\n",
        "print('cat' in animals)   # Check if an element is in a set; prints \"True\"\n",
        "print('fish' in animals)  # prints \"False\""
      ],
      "execution_count": 25,
      "outputs": [
        {
          "output_type": "stream",
          "name": "stdout",
          "text": [
            "True\n",
            "False\n"
          ]
        }
      ]
    },
    {
      "cell_type": "markdown",
      "metadata": {
        "id": "DqNZqNBgGalu"
      },
      "source": [
        "Multimile permit adaugarea/extragerea unui element:\n"
      ]
    },
    {
      "cell_type": "code",
      "metadata": {
        "colab": {
          "base_uri": "https://localhost:8080/"
        },
        "id": "MjmWIij7GhcN",
        "outputId": "b61f4595-ff7e-4710-ca19-ad0f56af9c40"
      },
      "source": [
        "animals.add('fish')\n",
        "print('fish' in animals) # verifica  introducerea elementului in multime\n",
        "print(len(animals)) # cate elemente are multimea\n",
        "animals.remove('cat')\n",
        "print(len(animals))"
      ],
      "execution_count": 26,
      "outputs": [
        {
          "output_type": "stream",
          "name": "stdout",
          "text": [
            "True\n",
            "3\n",
            "2\n"
          ]
        }
      ]
    },
    {
      "cell_type": "markdown",
      "metadata": {
        "id": "uvowJncGLhl6"
      },
      "source": [
        "Operatiunile cu multimi pot fi de asemenea simplificate similar cu cazul listelor sau al dictionarelor:\n"
      ]
    },
    {
      "cell_type": "code",
      "metadata": {
        "colab": {
          "base_uri": "https://localhost:8080/"
        },
        "id": "IXKa4M6eMN6c",
        "outputId": "c6683ec3-2598-4639-8b97-f0a984ee45a3"
      },
      "source": [
        "# extragerea radicalului din multimea numerelor pana la 30\n",
        "from math import sqrt\n",
        "print({int(sqrt(x)) for x in range(30)})"
      ],
      "execution_count": 27,
      "outputs": [
        {
          "output_type": "stream",
          "name": "stdout",
          "text": [
            "{0, 1, 2, 3, 4, 5}\n"
          ]
        }
      ]
    },
    {
      "cell_type": "markdown",
      "metadata": {
        "id": "qEaERW_BM1WY"
      },
      "source": [
        "###Tuple\n",
        "Un tuplu este o listă ordonată (invariabila) de valori. Un tuplu este în multe feluri similar cu o listă; Una dintre cele mai importante diferențe este că tuplurile pot fi utilizate drept chei în dicționare sau ca elemente ale multimilor, în timp ce listele nu. Iată un exemplu:"
      ]
    },
    {
      "cell_type": "code",
      "metadata": {
        "colab": {
          "base_uri": "https://localhost:8080/"
        },
        "id": "T7kGfbaYNLFX",
        "outputId": "99fb5945-fbe3-4b74-c0bd-d5b5aaf43ae0"
      },
      "source": [
        "d = {(x, x + 1): x for x in range(10)}  # Crearea unui dictionar cu chei de tip tuple\n",
        "t = (5, 6)\n",
        "print(t)      # crearea unui tuplu\n",
        "print(type(t))\n",
        "print(d)\n",
        "print(d[(1, 2)]) # afisarea unei valori pentru o cheie tuplu din dictionarul d"
      ],
      "execution_count": 28,
      "outputs": [
        {
          "output_type": "stream",
          "name": "stdout",
          "text": [
            "(5, 6)\n",
            "<class 'tuple'>\n",
            "{(0, 1): 0, (1, 2): 1, (2, 3): 2, (3, 4): 3, (4, 5): 4, (5, 6): 5, (6, 7): 6, (7, 8): 7, (8, 9): 8, (9, 10): 9}\n",
            "1\n"
          ]
        }
      ]
    },
    {
      "cell_type": "markdown",
      "metadata": {
        "id": "ncZYQlIsU5bM"
      },
      "source": [
        "\n",
        "##Definirea functiilor"
      ]
    },
    {
      "cell_type": "markdown",
      "metadata": {
        "id": "RBRD94UXHSBD"
      },
      "source": [
        "Definirea unei functii in Python impune folosirea cuvatului cheie ***def*** urmata de numele functiei."
      ]
    },
    {
      "cell_type": "code",
      "metadata": {
        "colab": {
          "base_uri": "https://localhost:8080/"
        },
        "id": "F3vHRP-CruG5",
        "outputId": "487873ce-beef-4946-977c-76c5b00ff5e3"
      },
      "source": [
        "def sign(x):\n",
        "    if x > 0:\n",
        "        return 'positive'\n",
        "    elif x < 0:\n",
        "        return 'negative'\n",
        "    else:\n",
        "        return 'zero'\n",
        "\n",
        "for x in [-7, 0, 3]: # apelarea functiei\n",
        "    print(sign(x))"
      ],
      "execution_count": 29,
      "outputs": [
        {
          "output_type": "stream",
          "name": "stdout",
          "text": [
            "negative\n",
            "zero\n",
            "positive\n"
          ]
        }
      ]
    },
    {
      "cell_type": "markdown",
      "metadata": {
        "id": "WilTTa52Jjzy"
      },
      "source": [
        "# Numpy\n",
        "Numpy este biblioteca de bază pentru calcul științific în Python. Oferă un structura de tip matrice multidimensionala de înaltă performanță și instrumente pentru lucrul cu aceste matrici. Dacă sunteți deja familiarizat cu MATLAB,  acest tutorial  este util pentru a folosi avantajele Numpy.\n",
        "Pentru a utiliza Numpy (vezi [cheet sheet](https://https://s3.amazonaws.com/assets.datacamp.com/blog_assets/Numpy_Python_Cheat_Sheet.pdf)), trebuie se importa mai întâi pachetul numpy:"
      ]
    },
    {
      "cell_type": "code",
      "metadata": {
        "id": "Xvr3l-EIMFiz"
      },
      "source": [
        "import numpy as np"
      ],
      "execution_count": 30,
      "outputs": []
    },
    {
      "cell_type": "markdown",
      "metadata": {
        "id": "LoityI26MO9h"
      },
      "source": [
        "##Matrici\n",
        "\n",
        "O matrice numpy este un tabel de valori, toate de același tip, indexată de un tuplu de numere întregi nenegative. Numărul de dimensiuni este rangul matricei; forma unui tablou este un tuplu de numere întregi care oferă dimensiunea tabloului de-a lungul fiecărei dimensiuni.\n",
        "Putem inițializa matrice numpy din liste Python suprapuse și accesa elementele unei matrici folosind paranteze pătrate:"
      ]
    },
    {
      "cell_type": "code",
      "metadata": {
        "colab": {
          "base_uri": "https://localhost:8080/"
        },
        "id": "oNMaaL4nMSQU",
        "outputId": "d117fffe-b769-4a96-9950-81a36a300fe6"
      },
      "source": [
        "A = np.array([1, 2, 3])  # Crearea unei matrici unidimensionale- vector\n",
        "print(type(A), A.shape, A[0], A[1], A[2])\n",
        "A[0] = 5                 # Modificarea unui element\n",
        "print(A)"
      ],
      "execution_count": 31,
      "outputs": [
        {
          "output_type": "stream",
          "name": "stdout",
          "text": [
            "<class 'numpy.ndarray'> (3,) 1 2 3\n",
            "[5 2 3]\n"
          ]
        }
      ]
    },
    {
      "cell_type": "code",
      "metadata": {
        "colab": {
          "base_uri": "https://localhost:8080/"
        },
        "id": "y3LMgs7-NUAh",
        "outputId": "03d76c42-feb2-45c8-c4b1-f7d92b8cf225"
      },
      "source": [
        "B = np.array([[1,2,3],[4,5,6]])   # Crarea unei matrici bidimensionale\n",
        "print(B)\n",
        "print(B[0,0])# Afisarea primului element al matricii.Atentie, nu uitati ca indexarea incepe de la (0,0)"
      ],
      "execution_count": 32,
      "outputs": [
        {
          "output_type": "stream",
          "name": "stdout",
          "text": [
            "[[1 2 3]\n",
            " [4 5 6]]\n",
            "1\n"
          ]
        }
      ]
    },
    {
      "cell_type": "markdown",
      "metadata": {
        "id": "Pw8YCc5SN3Vl"
      },
      "source": [
        "Numpy permite si crearea unor matrici standar (matrice nula, matricea identitate):\n"
      ]
    },
    {
      "cell_type": "code",
      "metadata": {
        "colab": {
          "base_uri": "https://localhost:8080/"
        },
        "id": "1dL3_tvlOAPe",
        "outputId": "1f1cadfa-8a5c-4491-f74e-995605145bf8"
      },
      "source": [
        "A = np.zeros((2,2))  # Creare unei matrici 2 x 2 de elemente nule\n",
        "print(A)"
      ],
      "execution_count": 33,
      "outputs": [
        {
          "output_type": "stream",
          "name": "stdout",
          "text": [
            "[[0. 0.]\n",
            " [0. 0.]]\n"
          ]
        }
      ]
    },
    {
      "cell_type": "code",
      "metadata": {
        "colab": {
          "base_uri": "https://localhost:8080/"
        },
        "id": "USfRR6NaOKW3",
        "outputId": "fd8072f0-c4f1-42e1-cb07-ccebb0bb6de6"
      },
      "source": [
        "B = np.ones((3,4))   # Crearea unei matrici de elemente 1\n",
        "print(B)"
      ],
      "execution_count": 34,
      "outputs": [
        {
          "output_type": "stream",
          "name": "stdout",
          "text": [
            "[[1. 1. 1. 1.]\n",
            " [1. 1. 1. 1.]\n",
            " [1. 1. 1. 1.]]\n"
          ]
        }
      ]
    },
    {
      "cell_type": "code",
      "metadata": {
        "colab": {
          "base_uri": "https://localhost:8080/"
        },
        "id": "-9lPMNJVOXA7",
        "outputId": "cddb0e55-7734-43e4-ea15-978a92724aef"
      },
      "source": [
        "C = np.full((3,3), 4) # Crearea unei matrici cu acelasi elemewnt\n",
        "print(C)"
      ],
      "execution_count": 35,
      "outputs": [
        {
          "output_type": "stream",
          "name": "stdout",
          "text": [
            "[[4 4 4]\n",
            " [4 4 4]\n",
            " [4 4 4]]\n"
          ]
        }
      ]
    },
    {
      "cell_type": "code",
      "metadata": {
        "colab": {
          "base_uri": "https://localhost:8080/"
        },
        "id": "P5KT8OnzOnlg",
        "outputId": "7ac2c3bc-a269-4b3d-8ca8-362b7d7d399d"
      },
      "source": [
        "D = np.eye(2)        # Crearea matricii identitate\n",
        "print(D)"
      ],
      "execution_count": 36,
      "outputs": [
        {
          "output_type": "stream",
          "name": "stdout",
          "text": [
            "[[1. 0.]\n",
            " [0. 1.]]\n"
          ]
        }
      ]
    },
    {
      "cell_type": "code",
      "metadata": {
        "colab": {
          "base_uri": "https://localhost:8080/"
        },
        "id": "ihNJLPAcOs0A",
        "outputId": "5c8755ce-0c00-42b3-d886-ec88f7089ac4"
      },
      "source": [
        "E = np.random.random((3,3)) # Crearea unei matrici cu elemente aleatoare\n",
        "print(E)"
      ],
      "execution_count": 37,
      "outputs": [
        {
          "output_type": "stream",
          "name": "stdout",
          "text": [
            "[[0.64409204 0.55719798 0.53809475]\n",
            " [0.2725188  0.88322575 0.0927569 ]\n",
            " [0.48596523 0.09238139 0.66657625]]\n"
          ]
        }
      ]
    },
    {
      "cell_type": "markdown",
      "metadata": {
        "id": "3-hxGUqMO7cg"
      },
      "source": [
        "##Indexarea matricilor\n",
        "\n",
        "Numpy oferă mai multe modalități de indexare în matrice.\n",
        "Secventiere: Similar listelor Python, pot fi extrase matrici numpy. Deoarece matricile pot fi multidimensionale (ex. in cazul imaginilor), este necesara specificarea secventei pentru fiecare dimensiune a matricei:"
      ]
    },
    {
      "cell_type": "code",
      "metadata": {
        "colab": {
          "base_uri": "https://localhost:8080/"
        },
        "id": "YuUrfdGHOsmX",
        "outputId": "8e0035c0-1230-4005-d2e3-3cdb35fd0f38"
      },
      "source": [
        "\n",
        "#Fie o matrice bidimensionala a(3, 4):\n",
        "\n",
        "A = np.array([[1,2,3,4], [5,6,7,8], [9,10,11,12]])\n",
        "print('A=',A)\n",
        "\n",
        "# Secventierea pentru a extrage coloana a doua adica o un vector coloana(3, 1):\n",
        "B = A[:3, 1:2] #:3 toate elementele de pe linii, 1:2 coloana a 2 a\n",
        "print('B=',B)"
      ],
      "execution_count": 38,
      "outputs": [
        {
          "output_type": "stream",
          "name": "stdout",
          "text": [
            "A= [[ 1  2  3  4]\n",
            " [ 5  6  7  8]\n",
            " [ 9 10 11 12]]\n",
            "B= [[ 2]\n",
            " [ 6]\n",
            " [10]]\n"
          ]
        }
      ]
    },
    {
      "cell_type": "markdown",
      "metadata": {
        "id": "pQ8KKAMtmWEA"
      },
      "source": [
        "Transpunerea unei matrici A se obtine folosind instructiunea A.transpose()\n",
        "\n",
        "$A_{2,3} =\n",
        " \\begin{pmatrix}\n",
        "  a_{0,0} & a_{0,1} & a_{0,2} \\\\\n",
        "  a_{1,0} & a_{1,1} & a_{1,2} \\\\\n",
        " \\end{pmatrix}$\n",
        "\n",
        " obtinandu-se\n",
        "\n",
        "$A_{3,2} =\n",
        " \\begin{pmatrix}\n",
        "  a_{0,0} & a_{1,0}  \\\\\n",
        "  a_{0,1} & a_{1,1}  \\\\\n",
        "   a_{0,2} & a_{1,2}\n",
        " \\end{pmatrix}$\n"
      ]
    },
    {
      "cell_type": "code",
      "metadata": {
        "colab": {
          "base_uri": "https://localhost:8080/"
        },
        "id": "eKYbzROszZ8n",
        "outputId": "2932bb3d-3e56-42f3-fa21-63f6e523f7f6"
      },
      "source": [
        "A = np.array([[1,2,3], [5,6,7]])\n",
        "print('A=',A)\n",
        "B=A.transpose()\n",
        "print('B=',B)"
      ],
      "execution_count": 39,
      "outputs": [
        {
          "output_type": "stream",
          "name": "stdout",
          "text": [
            "A= [[1 2 3]\n",
            " [5 6 7]]\n",
            "B= [[1 5]\n",
            " [2 6]\n",
            " [3 7]]\n"
          ]
        }
      ]
    },
    {
      "cell_type": "markdown",
      "metadata": {
        "id": "OykgMBMIXIAH"
      },
      "source": [
        "#Matplotlib\n",
        "Matplotlib (vezi [cheet sheet](https://https://s3.amazonaws.com/assets.datacamp.com/blog_assets/Python_Matplotlib_Cheat_Sheet.pdf) ) este o librarie dedicata vizulizarii grafice a datelor. In sectiunea urmatoare sunt prezentate cateva dintre functiile acesteia similiare de altfel cu cele existente in MATLAB."
      ]
    },
    {
      "cell_type": "code",
      "metadata": {
        "id": "xeiq7yOiXTyA"
      },
      "source": [
        "import matplotlib.pyplot as plt"
      ],
      "execution_count": 40,
      "outputs": []
    },
    {
      "cell_type": "markdown",
      "metadata": {
        "id": "yC8cNXY0XbLf"
      },
      "source": [
        "Functia cea mai des folosita este plot, ce permite redarea unui grafic bidimensional."
      ]
    },
    {
      "cell_type": "code",
      "metadata": {
        "colab": {
          "base_uri": "https://localhost:8080/",
          "height": 411
        },
        "id": "PrW3dDaHXblp",
        "outputId": "67836533-8263-41d3-d255-4f60d9d716ba"
      },
      "source": [
        "# Calculul punctelor x si y pentru reprezentarea functiei sin\n",
        "x = np.arange(0, 3 * np.pi, 0.1) # definirea unui vector de valori intre 0 si 3pi, cu pas de 0.1\n",
        "y = np.sin(x)\n",
        "print(x)\n",
        "# Plot the points using matplotlib\n",
        "plt.plot(x, y)"
      ],
      "execution_count": 41,
      "outputs": [
        {
          "output_type": "stream",
          "name": "stdout",
          "text": [
            "[0.  0.1 0.2 0.3 0.4 0.5 0.6 0.7 0.8 0.9 1.  1.1 1.2 1.3 1.4 1.5 1.6 1.7\n",
            " 1.8 1.9 2.  2.1 2.2 2.3 2.4 2.5 2.6 2.7 2.8 2.9 3.  3.1 3.2 3.3 3.4 3.5\n",
            " 3.6 3.7 3.8 3.9 4.  4.1 4.2 4.3 4.4 4.5 4.6 4.7 4.8 4.9 5.  5.1 5.2 5.3\n",
            " 5.4 5.5 5.6 5.7 5.8 5.9 6.  6.1 6.2 6.3 6.4 6.5 6.6 6.7 6.8 6.9 7.  7.1\n",
            " 7.2 7.3 7.4 7.5 7.6 7.7 7.8 7.9 8.  8.1 8.2 8.3 8.4 8.5 8.6 8.7 8.8 8.9\n",
            " 9.  9.1 9.2 9.3 9.4]\n"
          ]
        },
        {
          "output_type": "execute_result",
          "data": {
            "text/plain": [
              "[<matplotlib.lines.Line2D at 0x7e7b3b1d9bd0>]"
            ]
          },
          "metadata": {},
          "execution_count": 41
        },
        {
          "output_type": "display_data",
          "data": {
            "text/plain": [
              "<Figure size 640x480 with 1 Axes>"
            ],
            "image/png": "[encoded data removed]"
          },
          "metadata": {}
        }
      ]
    },
    {
      "cell_type": "code",
      "metadata": {
        "colab": {
          "base_uri": "https://localhost:8080/",
          "height": 303
        },
        "id": "1lFoRPas3TIg",
        "outputId": "dc9790d8-5917-4884-f907-e339b7edfa42"
      },
      "source": [
        "# 2 grafice pe aceeasi axa de coordonate\n",
        "y_sin = np.sin(x)\n",
        "y_cos = np.cos(x)\n",
        "\n",
        "# reprezentare, etichetare axa, adaugarea titlului, a legendei\n",
        "plt.plot(x, y_sin)\n",
        "plt.plot(x, y_cos)\n",
        "plt.xlabel('x axis label')\n",
        "plt.ylabel('y axis label')\n",
        "plt.title('Sine and Cosine')\n",
        "plt.legend(['Sine', 'Cosine'])"
      ],
      "execution_count": 42,
      "outputs": [
        {
          "output_type": "execute_result",
          "data": {
            "text/plain": [
              "<matplotlib.legend.Legend at 0x7e7b3b129030>"
            ]
          },
          "metadata": {},
          "execution_count": 42
        },
        {
          "output_type": "display_data",
          "data": {
            "text/plain": [
              "<Figure size 640x480 with 1 Axes>"
            ],
            "image/png": "[encoded data removed]"
          },
          "metadata": {}
        }
      ]
    },
    {
      "cell_type": "markdown",
      "metadata": {
        "id": "dH0tcvYkBU0d"
      },
      "source": [
        "##Categorii de valori  - Bar/Barh"
      ]
    },
    {
      "cell_type": "code",
      "metadata": {
        "colab": {
          "base_uri": "https://localhost:8080/",
          "height": 518
        },
        "id": "o4_FJNE5BnoI",
        "outputId": "4ac10ace-3913-419a-9eb0-9c67f102f370"
      },
      "source": [
        "limbaje = ['C++', 'Matlab', 'Python', 'Java',]\n",
        "nr_de_studenti = [3, 2, 5, 2]\n",
        "\n",
        "plt.bar(limbaje, nr_de_studenti)\n",
        "plt.figure()\n",
        "plt.barh(limbaje, nr_de_studenti, color='green')"
      ],
      "execution_count": 43,
      "outputs": [
        {
          "output_type": "execute_result",
          "data": {
            "text/plain": [
              "<BarContainer object of 4 artists>"
            ]
          },
          "metadata": {},
          "execution_count": 43
        },
        {
          "output_type": "display_data",
          "data": {
            "text/plain": [
              "<Figure size 640x480 with 1 Axes>"
            ],
            "image/png": "[encoded data removed]"
          },
          "metadata": {}
        },
        {
          "output_type": "display_data",
          "data": {
            "text/plain": [
              "<Figure size 640x480 with 1 Axes>"
            ],
            "image/png": "[encoded data removed]"
          },
          "metadata": {}
        }
      ]
    },
    {
      "cell_type": "code",
      "metadata": {
        "colab": {
          "base_uri": "https://localhost:8080/",
          "height": 394
        },
        "id": "YnijUxRZEWdf",
        "outputId": "dd8ad5eb-72d7-4c72-c878-9f0aaa82be7e"
      },
      "source": [
        "plt.pie(nr_de_studenti, labels = limbaje);\n",
        "plt.title('Preferintele studentilor in programare')"
      ],
      "execution_count": 44,
      "outputs": [
        {
          "output_type": "execute_result",
          "data": {
            "text/plain": [
              "Text(0.5, 1.0, 'Preferintele studentilor in programare')"
            ]
          },
          "metadata": {},
          "execution_count": 44
        },
        {
          "output_type": "display_data",
          "data": {
            "text/plain": [
              "<Figure size 640x480 with 1 Axes>"
            ],
            "image/png": "[encoded data removed]"
          },
          "metadata": {}
        }
      ]
    },
    {
      "cell_type": "markdown",
      "metadata": {
        "id": "wesdLpTpD4WM"
      },
      "source": [
        "## Distributia si frecventa datelor - Hist"
      ]
    },
    {
      "cell_type": "code",
      "metadata": {
        "colab": {
          "base_uri": "https://localhost:8080/",
          "height": 348
        },
        "id": "r6sZey6TEEKn",
        "outputId": "b39ed017-6d0a-415c-eb81-486e2c55b536"
      },
      "source": [
        "plt.hist([1, 2, 2, 3, 3, 3, 4, 4, 10], color='b')"
      ],
      "execution_count": 45,
      "outputs": [
        {
          "output_type": "execute_result",
          "data": {
            "text/plain": [
              "(array([1., 2., 3., 2., 0., 0., 0., 0., 0., 1.]),\n",
              " array([ 1. ,  1.9,  2.8,  3.7,  4.6,  5.5,  6.4,  7.3,  8.2,  9.1, 10. ]),\n",
              " <BarContainer object of 10 artists>)"
            ]
          },
          "metadata": {},
          "execution_count": 45
        },
        {
          "output_type": "display_data",
          "data": {
            "text/plain": [
              "<Figure size 640x480 with 1 Axes>"
            ],
            "image/png": "[encoded data removed]"
          },
          "metadata": {}
        }
      ]
    },
    {
      "cell_type": "markdown",
      "metadata": {
        "id": "JKNG7eZX5N35"
      },
      "source": [
        "#Exercitii\n",
        "1. Calculul entropiei pentru experimentul aruncarii cu banul.\n"
      ]
    },
    {
      "cell_type": "code",
      "metadata": {
        "colab": {
          "base_uri": "https://localhost:8080/"
        },
        "id": "r60_9uTw5W8g",
        "outputId": "5953dbfa-390d-4d94-e363-73e4825e7276"
      },
      "source": [
        "from math import log2\n",
        "# probabilitatea  de aparitie a evenimentului \"cap\" sau \"pajura\"\n",
        "p = 0.5\n",
        "# informatia obtinuta dupa realizarea acestui eveniment\n",
        "i = -log2(p)\n",
        "print('p(x)=%.2f, information: %.3f bits' % (p, i))"
      ],
      "execution_count": 46,
      "outputs": [
        {
          "output_type": "stream",
          "name": "stdout",
          "text": [
            "p(x)=0.50, information: 1.000 bits\n"
          ]
        }
      ]
    },
    {
      "cell_type": "markdown",
      "metadata": {
        "id": "3-ZNKL151x3b"
      },
      "source": [
        "\n",
        "\n",
        "2. Calculul entropiei pentru experimentul aruncarii cu zarul. Pentru orice densitate de probabilitate se poate defini notiunea de entropie, ce are multe proprietati in comun cu ceea ce ar trebui sa fie  o masura a informatiei. Continutul informational al unui rezultat $x$, definit de Shannon, este:\n",
        "\\begin{equation}\n",
        "H(x)=-\\sum_{i=1}^{n}p(x_{i})log_{2} {p(x_{i})},\n",
        "\\end{equation}\n"
      ]
    },
    {
      "cell_type": "code",
      "metadata": {
        "id": "BC9SlrP3ppwo",
        "colab": {
          "base_uri": "https://localhost:8080/"
        },
        "outputId": "ef9fffd5-72b0-41b2-aad7-1f9fdfdac4a0"
      },
      "source": [
        "from math import log2\n",
        "# numarul de rezultate posibile\n",
        "n = 6\n",
        "# probabilitatea asociata fiecarui rezultat- evenimente echiprobabile, distributie uniforma [1/6, 1/6...1/6]\n",
        "prob = [1.0 /n]*n #intreg impartit, ca sa obtin probabilitatea,multiplicarea cu n a listei imi copiaza continutul de n ori\n",
        "print(prob)\n",
        "# calculul entropiei\n",
        "entropia = -sum([p * log2(p) for p in prob])\n",
        "# afiseaza rezultatul\n",
        "print('Entropia: %.3f biti' % entropia)"
      ],
      "execution_count": 47,
      "outputs": [
        {
          "output_type": "stream",
          "name": "stdout",
          "text": [
            "[0.16666666666666666, 0.16666666666666666, 0.16666666666666666, 0.16666666666666666, 0.16666666666666666, 0.16666666666666666]\n",
            "Entropia: 2.585 biti\n"
          ]
        }
      ]
    },
    {
      "cell_type": "markdown",
      "metadata": {
        "id": "03tCfn7LfRL-"
      },
      "source": [
        "3. Informatia proprie asupra realizarii unui eveniment $x_{i}$ ce rezulta chiar din realizarea acelui eveniment, este o functie de probabilitatea de realizare. Ce se intampla cu valoarea informatiei pe masura ce creste probabilitatea de realizare catre 1 (evenimentul sigur)?\n"
      ]
    },
    {
      "cell_type": "code",
      "metadata": {
        "colab": {
          "base_uri": "https://localhost:8080/",
          "height": 294
        },
        "id": "cWn_mlZR56en",
        "outputId": "1930c663-22c1-464e-80f8-edb933a1666f"
      },
      "source": [
        "# Informatia proprie in functie de probabilitate\n",
        "from math import log2\n",
        "from matplotlib import pyplot as plt\n",
        "# valori are probabilitatii\n",
        "prob = [0.1, 0.2, 0.3, 0.4, 0.5, 0.6, 0.7, 0.8, 0.9, 1.0]\n",
        "# calculul informatiei proprii pentru fiecare valoare\n",
        "infp = [-log2(p) for p in prob]\n",
        "# reprezetare grafica -evolutia informatiei proprii cu cresterea probabilitatii\n",
        "plt.plot(prob, infp, marker='*')\n",
        "plt.title('Dependenta Informatiei proprii de probabilitate ')\n",
        "plt.xlabel('Probabilitate')\n",
        "plt.ylabel('Informatie proprie')\n",
        "#plt.show()"
      ],
      "execution_count": 48,
      "outputs": [
        {
          "output_type": "execute_result",
          "data": {
            "text/plain": [
              "Text(0, 0.5, 'Informatie proprie')"
            ]
          },
          "metadata": {},
          "execution_count": 48
        },
        {
          "output_type": "display_data",
          "data": {
            "text/plain": [
              "<Figure size 640x480 with 1 Axes>"
            ],
            "image/png": "[encoded data removed]"
          },
          "metadata": {}
        }
      ]
    },
    {
      "cell_type": "markdown",
      "metadata": {
        "id": "KHGGsP_ukEOQ"
      },
      "source": [
        "4. Calculul entropiei unei variabile aleatoare"
      ]
    },
    {
      "cell_type": "code",
      "metadata": {
        "colab": {
          "base_uri": "https://localhost:8080/"
        },
        "id": "UZQCjRku6Z_w",
        "outputId": "ff91f5ea-5b52-4fb6-ddb4-65d071628311"
      },
      "source": [
        "\n",
        "# calculul entropiei pentru diverse distributii de probabilitate\n",
        "from math import log2\n",
        "from matplotlib import pyplot\n",
        "\n",
        "# crearea unei functii pentru calculul entropiei\n",
        "def entropie(events, ets=1e-30):\n",
        "    return -sum([p * log2(p + ets) for p in events])\n",
        "# introducerea vectorului de probabilitati\n",
        "prob = (0.2, 0.05, 0.4, 0.15, 0.2)\n",
        "\n",
        "H = entropie(prob)\n",
        "print('H=',H,'biti')"
      ],
      "execution_count": 49,
      "outputs": [
        {
          "output_type": "stream",
          "name": "stdout",
          "text": [
            "H= 2.0841837197791886 biti\n"
          ]
        }
      ]
    },
    {
      "cell_type": "markdown",
      "metadata": {
        "id": "L1kZWUbbbu_y"
      },
      "source": [
        "#Bibliografie\n",
        "\n",
        "\n",
        "1.   [Overview of Colaboratory features](https://colab.research.google.com/notebooks/basic_features_overview.ipynb#scrollTo=JyG45Qk3qQLS)\n",
        "2.   [External data:Local files, drive, sheets and cloud storage](https://https://colab.research.google.com/notebooks/io.ipynb)\n",
        "3. [Calcul si algebra liniara ](https://https://stanford.edu/~shervine/teaching/cs-229/refresher-algebra-calculus)\n",
        "4. [Introducere in probabilitati si statistica ](https://https://stanford.edu/~shervine/teaching/cs-229/refresher-probabilities-statistics)\n",
        "5. [Memorator - Python 3](https://perso.limsi.fr/pointal/python:memento)\n",
        "\n",
        "\n",
        "\n"
      ]
    },
    {
      "cell_type": "markdown",
      "metadata": {
        "id": "kRLvY-esqBHn"
      },
      "source": [
        "#Anexa 1- Utilizarea Google Drive local"
      ]
    },
    {
      "cell_type": "code",
      "metadata": {
        "colab": {
          "base_uri": "https://localhost:8080/",
          "height": 460
        },
        "id": "g-eG0e_8gu9g",
        "outputId": "82730ccc-56a2-4733-de4d-863559027b4a"
      },
      "source": [
        "from google.colab import drive\n",
        "drive.mount('/content/drive')"
      ],
      "execution_count": 50,
      "outputs": [
        {
          "output_type": "error",
          "ename": "MessageError",
          "evalue": "Error: credential propagation was unsuccessful",
          "traceback": [
            "\u001b[0;31m---------------------------------------------------------------------------\u001b[0m",
            "\u001b[0;31mMessageError\u001b[0m                              Traceback (most recent call last)",
            "\u001b[0;32m<ipython-input-50-d5df0069828e>\u001b[0m in \u001b[0;36m<cell line: 2>\u001b[0;34m()\u001b[0m\n\u001b[1;32m      1\u001b[0m \u001b[0;32mfrom\u001b[0m \u001b[0mgoogle\u001b[0m\u001b[0;34m.\u001b[0m\u001b[0mcolab\u001b[0m \u001b[0;32mimport\u001b[0m \u001b[0mdrive\u001b[0m\u001b[0;34m\u001b[0m\u001b[0;34m\u001b[0m\u001b[0m\n\u001b[0;32m----> 2\u001b[0;31m \u001b[0mdrive\u001b[0m\u001b[0;34m.\u001b[0m\u001b[0mmount\u001b[0m\u001b[0;34m(\u001b[0m\u001b[0;34m'/content/drive'\u001b[0m\u001b[0;34m)\u001b[0m\u001b[0;34m\u001b[0m\u001b[0;34m\u001b[0m\u001b[0m\n\u001b[0m",
            "\u001b[0;32m/usr/local/lib/python3.10/dist-packages/google/colab/drive.py\u001b[0m in \u001b[0;36mmount\u001b[0;34m(mountpoint, force_remount, timeout_ms, readonly)\u001b[0m\n\u001b[1;32m     98\u001b[0m \u001b[0;32mdef\u001b[0m \u001b[0mmount\u001b[0m\u001b[0;34m(\u001b[0m\u001b[0mmountpoint\u001b[0m\u001b[0;34m,\u001b[0m \u001b[0mforce_remount\u001b[0m\u001b[0;34m=\u001b[0m\u001b[0;32mFalse\u001b[0m\u001b[0;34m,\u001b[0m \u001b[0mtimeout_ms\u001b[0m\u001b[0;34m=\u001b[0m\u001b[0;36m120000\u001b[0m\u001b[0;34m,\u001b[0m \u001b[0mreadonly\u001b[0m\u001b[0;34m=\u001b[0m\u001b[0;32mFalse\u001b[0m\u001b[0;34m)\u001b[0m\u001b[0;34m:\u001b[0m\u001b[0;34m\u001b[0m\u001b[0;34m\u001b[0m\u001b[0m\n\u001b[1;32m     99\u001b[0m   \u001b[0;34m\"\"\"Mount your Google Drive at the specified mountpoint path.\"\"\"\u001b[0m\u001b[0;34m\u001b[0m\u001b[0;34m\u001b[0m\u001b[0m\n\u001b[0;32m--> 100\u001b[0;31m   return _mount(\n\u001b[0m\u001b[1;32m    101\u001b[0m       \u001b[0mmountpoint\u001b[0m\u001b[0;34m,\u001b[0m\u001b[0;34m\u001b[0m\u001b[0;34m\u001b[0m\u001b[0m\n\u001b[1;32m    102\u001b[0m       \u001b[0mforce_remount\u001b[0m\u001b[0;34m=\u001b[0m\u001b[0mforce_remount\u001b[0m\u001b[0;34m,\u001b[0m\u001b[0;34m\u001b[0m\u001b[0;34m\u001b[0m\u001b[0m\n",
            "\u001b[0;32m/usr/local/lib/python3.10/dist-packages/google/colab/drive.py\u001b[0m in \u001b[0;36m_mount\u001b[0;34m(mountpoint, force_remount, timeout_ms, ephemeral, readonly)\u001b[0m\n\u001b[1;32m    135\u001b[0m   )\n\u001b[1;32m    136\u001b[0m   \u001b[0;32mif\u001b[0m \u001b[0mephemeral\u001b[0m\u001b[0;34m:\u001b[0m\u001b[0;34m\u001b[0m\u001b[0;34m\u001b[0m\u001b[0m\n\u001b[0;32m--> 137\u001b[0;31m     _message.blocking_request(\n\u001b[0m\u001b[1;32m    138\u001b[0m         \u001b[0;34m'request_auth'\u001b[0m\u001b[0;34m,\u001b[0m\u001b[0;34m\u001b[0m\u001b[0;34m\u001b[0m\u001b[0m\n\u001b[1;32m    139\u001b[0m         \u001b[0mrequest\u001b[0m\u001b[0;34m=\u001b[0m\u001b[0;34m{\u001b[0m\u001b[0;34m'authType'\u001b[0m\u001b[0;34m:\u001b[0m \u001b[0;34m'dfs_ephemeral'\u001b[0m\u001b[0;34m}\u001b[0m\u001b[0;34m,\u001b[0m\u001b[0;34m\u001b[0m\u001b[0;34m\u001b[0m\u001b[0m\n",
            "\u001b[0;32m/usr/local/lib/python3.10/dist-packages/google/colab/_message.py\u001b[0m in \u001b[0;36mblocking_request\u001b[0;34m(request_type, request, timeout_sec, parent)\u001b[0m\n\u001b[1;32m    174\u001b[0m       \u001b[0mrequest_type\u001b[0m\u001b[0;34m,\u001b[0m \u001b[0mrequest\u001b[0m\u001b[0;34m,\u001b[0m \u001b[0mparent\u001b[0m\u001b[0;34m=\u001b[0m\u001b[0mparent\u001b[0m\u001b[0;34m,\u001b[0m \u001b[0mexpect_reply\u001b[0m\u001b[0;34m=\u001b[0m\u001b[0;32mTrue\u001b[0m\u001b[0;34m\u001b[0m\u001b[0;34m\u001b[0m\u001b[0m\n\u001b[1;32m    175\u001b[0m   )\n\u001b[0;32m--> 176\u001b[0;31m   \u001b[0;32mreturn\u001b[0m \u001b[0mread_reply_from_input\u001b[0m\u001b[0;34m(\u001b[0m\u001b[0mrequest_id\u001b[0m\u001b[0;34m,\u001b[0m \u001b[0mtimeout_sec\u001b[0m\u001b[0;34m)\u001b[0m\u001b[0;34m\u001b[0m\u001b[0;34m\u001b[0m\u001b[0m\n\u001b[0m",
            "\u001b[0;32m/usr/local/lib/python3.10/dist-packages/google/colab/_message.py\u001b[0m in \u001b[0;36mread_reply_from_input\u001b[0;34m(message_id, timeout_sec)\u001b[0m\n\u001b[1;32m    101\u001b[0m     ):\n\u001b[1;32m    102\u001b[0m       \u001b[0;32mif\u001b[0m \u001b[0;34m'error'\u001b[0m \u001b[0;32min\u001b[0m \u001b[0mreply\u001b[0m\u001b[0;34m:\u001b[0m\u001b[0;34m\u001b[0m\u001b[0;34m\u001b[0m\u001b[0m\n\u001b[0;32m--> 103\u001b[0;31m         \u001b[0;32mraise\u001b[0m \u001b[0mMessageError\u001b[0m\u001b[0;34m(\u001b[0m\u001b[0mreply\u001b[0m\u001b[0;34m[\u001b[0m\u001b[0;34m'error'\u001b[0m\u001b[0;34m]\u001b[0m\u001b[0;34m)\u001b[0m\u001b[0;34m\u001b[0m\u001b[0;34m\u001b[0m\u001b[0m\n\u001b[0m\u001b[1;32m    104\u001b[0m       \u001b[0;32mreturn\u001b[0m \u001b[0mreply\u001b[0m\u001b[0;34m.\u001b[0m\u001b[0mget\u001b[0m\u001b[0;34m(\u001b[0m\u001b[0;34m'data'\u001b[0m\u001b[0;34m,\u001b[0m \u001b[0;32mNone\u001b[0m\u001b[0;34m)\u001b[0m\u001b[0;34m\u001b[0m\u001b[0;34m\u001b[0m\u001b[0m\n\u001b[1;32m    105\u001b[0m \u001b[0;34m\u001b[0m\u001b[0m\n",
            "\u001b[0;31mMessageError\u001b[0m: Error: credential propagation was unsuccessful"
          ]
        }
      ]
    },
    {
      "cell_type": "markdown",
      "source": [
        "## TO DO:\n",
        "\n",
        "1. Dandu-se un vector de numere intregi `nums` si un numar intreg `target`, sa se intoarca indicii celor doua numere intregi ale caror suma este egala cu valoarea lui `target`.\n",
        "Puteti presupune ca fiecare intrare are exact o solutie, si nu se poate utiliza acelasi element de doua ori.\n",
        "\n",
        "2. Dandu-se un string de la tastatura, afisati numarul de vocale si numarul de consoane continute de acel string.\n",
        "  exp:\n",
        "  Primiti: `center`\n",
        "  Afisati:\n",
        "  2 (pentru vocale)\n",
        "  4 (pentru consoane).\n",
        "\n",
        "3. Scrieti o functie care calculeaza produsul unui vector de numere intregi primit ca parametru."
      ],
      "metadata": {
        "id": "8c-2qyUAPs7M"
      }
    },
    {
      "cell_type": "code",
      "metadata": {
        "id": "3-LUCg4y5Lpv",
        "colab": {
          "base_uri": "https://localhost:8080/"
        },
        "outputId": "ed0cf82a-c8a5-4589-ff28-6beb6f5f6c5d"
      },
      "source": [
        "def sum(nums, target):\n",
        "    map = {}\n",
        "    for i, n in enumerate(nums):\n",
        "        d = target - n\n",
        "        if d in map:\n",
        "            return [map[d], i]\n",
        "        map[n] = i\n",
        "\n",
        "nums = [1, 2, 3, 4, 5, 6]\n",
        "target = 4\n",
        "print(sum(nums, target))"
      ],
      "execution_count": 53,
      "outputs": [
        {
          "output_type": "stream",
          "name": "stdout",
          "text": [
            "[0, 2]\n"
          ]
        }
      ]
    },
    {
      "cell_type": "code",
      "source": [
        "def nr(text):\n",
        "    v = \"aeiouAEIOU\"\n",
        "    nrv = 0\n",
        "    nrc = 0\n",
        "\n",
        "    for char in text:\n",
        "        if char.isalpha():\n",
        "            if char in v:\n",
        "                nrv += 1\n",
        "            else:\n",
        "                nrc += 1\n",
        "\n",
        "    print(f\"Vocale: {nrv}, Consoane: {nrc}\")\n",
        "\n",
        "text = (\"mere\")\n",
        "nr(text)"
      ],
      "metadata": {
        "colab": {
          "base_uri": "https://localhost:8080/"
        },
        "id": "bG8BSvovZRd8",
        "outputId": "7a8f67d2-15ff-49ba-ef49-8b457193f5c8"
      },
      "execution_count": 52,
      "outputs": [
        {
          "output_type": "stream",
          "name": "stdout",
          "text": [
            "Vocale: 2, Consoane: 2\n"
          ]
        }
      ]
    },
    {
      "cell_type": "code",
      "source": [
        "def prod(v):\n",
        "    p = 1\n",
        "    for i in v:\n",
        "        p *= i\n",
        "    return p\n",
        "\n",
        "v = [2, 3, 4, 5]\n",
        "print(prod(v))"
      ],
      "metadata": {
        "colab": {
          "base_uri": "https://localhost:8080/"
        },
        "id": "ZMZv6pqOZ65e",
        "outputId": "ba476ebd-4a73-4d7b-d3ac-8a0f36abaf07"
      },
      "execution_count": 51,
      "outputs": [
        {
          "output_type": "stream",
          "name": "stdout",
          "text": [
            "120\n"
          ]
        }
      ]
    }
  ]
}